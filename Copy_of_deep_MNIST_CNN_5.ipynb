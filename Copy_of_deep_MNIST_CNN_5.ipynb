{
  "nbformat": 4,
  "nbformat_minor": 0,
  "metadata": {
    "colab": {
      "provenance": [],
      "gpuType": "T4"
    },
    "kernelspec": {
      "name": "python3",
      "display_name": "Python 3"
    },
    "language_info": {
      "name": "python"
    },
    "accelerator": "GPU"
  },
  "cells": [
    {
      "cell_type": "markdown",
      "source": [
        "# **CNN & MNIST**"
      ],
      "metadata": {
        "id": "4ydGzmlAXve7"
      }
    },
    {
      "cell_type": "markdown",
      "source": [
        "Nous allons utiliser PyTorch pour créer un modèle CNN étape par étape. Ensuite, nous allons entraîner le modèle avec les données d'entraînement et évaluer le modèle avec les données de test.\n",
        "\n",
        "**Importation des bibliothèques**"
      ],
      "metadata": {
        "id": "uO6GayvQRbHo"
      }
    },
    {
      "cell_type": "code",
      "execution_count": 1,
      "metadata": {
        "id": "hpWmUzy1RQcv"
      },
      "outputs": [],
      "source": [
        "import torch\n",
        "import numpy as np"
      ]
    },
    {
      "cell_type": "markdown",
      "source": [
        "**Vérifier le périphérique disponible**"
      ],
      "metadata": {
        "id": "uXJGuqJbRhAe"
      }
    },
    {
      "cell_type": "code",
      "source": [
        "device = torch.device('cuda' if torch.cuda.is_available() else 'cpu')\n",
        "print(device)"
      ],
      "metadata": {
        "colab": {
          "base_uri": "https://localhost:8080/"
        },
        "id": "h1IsOtahRlVu",
        "outputId": "1da688ba-b4fe-4468-d51a-f89757b81657"
      },
      "execution_count": 2,
      "outputs": [
        {
          "output_type": "stream",
          "name": "stdout",
          "text": [
            "cpu\n"
          ]
        }
      ]
    },
    {
      "cell_type": "markdown",
      "source": [
        "Résultat: `cuda` ou `cpu` selon la disponibilité du matériel GPU.\n",
        "\n",
        "**Téléchargement de l'ensemble de données MNIST**"
      ],
      "metadata": {
        "id": "hkoLwBjyRpWm"
      }
    },
    {
      "cell_type": "code",
      "source": [
        "from torchvision import datasets\n",
        "from torchvision.transforms import ToTensor\n",
        "\n",
        "train_data = datasets.FashionMNIST(root='data', train=True, transform=ToTensor(), download=True)\n",
        "test_data = datasets.FashionMNIST(root='data', train=False, transform=ToTensor())"
      ],
      "metadata": {
        "id": "TJhkvWddRtcK",
        "colab": {
          "base_uri": "https://localhost:8080/"
        },
        "outputId": "90e0c77a-55ed-4e1b-8fe8-1ca4f004a43f"
      },
      "execution_count": 3,
      "outputs": [
        {
          "output_type": "stream",
          "name": "stdout",
          "text": [
            "Downloading http://fashion-mnist.s3-website.eu-central-1.amazonaws.com/train-images-idx3-ubyte.gz\n",
            "Downloading http://fashion-mnist.s3-website.eu-central-1.amazonaws.com/train-images-idx3-ubyte.gz to data/FashionMNIST/raw/train-images-idx3-ubyte.gz\n"
          ]
        },
        {
          "output_type": "stream",
          "name": "stderr",
          "text": [
            "100%|██████████| 26421880/26421880 [00:14<00:00, 1832060.12it/s]\n"
          ]
        },
        {
          "output_type": "stream",
          "name": "stdout",
          "text": [
            "Extracting data/FashionMNIST/raw/train-images-idx3-ubyte.gz to data/FashionMNIST/raw\n",
            "\n",
            "Downloading http://fashion-mnist.s3-website.eu-central-1.amazonaws.com/train-labels-idx1-ubyte.gz\n",
            "Downloading http://fashion-mnist.s3-website.eu-central-1.amazonaws.com/train-labels-idx1-ubyte.gz to data/FashionMNIST/raw/train-labels-idx1-ubyte.gz\n"
          ]
        },
        {
          "output_type": "stream",
          "name": "stderr",
          "text": [
            "100%|██████████| 29515/29515 [00:00<00:00, 59446.55it/s]\n"
          ]
        },
        {
          "output_type": "stream",
          "name": "stdout",
          "text": [
            "Extracting data/FashionMNIST/raw/train-labels-idx1-ubyte.gz to data/FashionMNIST/raw\n",
            "\n",
            "Downloading http://fashion-mnist.s3-website.eu-central-1.amazonaws.com/t10k-images-idx3-ubyte.gz\n",
            "Downloading http://fashion-mnist.s3-website.eu-central-1.amazonaws.com/t10k-images-idx3-ubyte.gz to data/FashionMNIST/raw/t10k-images-idx3-ubyte.gz\n"
          ]
        },
        {
          "output_type": "stream",
          "name": "stderr",
          "text": [
            "100%|██████████| 4422102/4422102 [00:01<00:00, 2347629.59it/s]\n"
          ]
        },
        {
          "output_type": "stream",
          "name": "stdout",
          "text": [
            "Extracting data/FashionMNIST/raw/t10k-images-idx3-ubyte.gz to data/FashionMNIST/raw\n",
            "\n",
            "Downloading http://fashion-mnist.s3-website.eu-central-1.amazonaws.com/t10k-labels-idx1-ubyte.gz\n",
            "Downloading http://fashion-mnist.s3-website.eu-central-1.amazonaws.com/t10k-labels-idx1-ubyte.gz to data/FashionMNIST/raw/t10k-labels-idx1-ubyte.gz\n"
          ]
        },
        {
          "output_type": "stream",
          "name": "stderr",
          "text": [
            "100%|██████████| 5148/5148 [00:00<00:00, 4622624.06it/s]"
          ]
        },
        {
          "output_type": "stream",
          "name": "stdout",
          "text": [
            "Extracting data/FashionMNIST/raw/t10k-labels-idx1-ubyte.gz to data/FashionMNIST/raw\n",
            "\n"
          ]
        },
        {
          "output_type": "stream",
          "name": "stderr",
          "text": [
            "\n"
          ]
        }
      ]
    },
    {
      "cell_type": "markdown",
      "source": [
        "Lorsque vous utilisez la fonction `datasets.MNIST` de PyTorch pour charger le jeu de données MNIST, l'argument `transform=ToTensor()` est utilisé pour spécifier la transformation à appliquer aux données chargées. En particulier, `ToTensor()` est une transformation fournie par torchvision.transforms qui convertit les images PIL en tenseurs.\n",
        "\n",
        "Les images dans le jeu de données MNIST sont initialement fournies sous forme d'images PIL (Python Imaging Library). Cependant, pour travailler efficacement avec ces images dans le contexte de l'apprentissage automatique et des réseaux de neurones, il est souvent préférable de les convertir en tenseurs, qui sont la structure de données principale utilisée par PyTorch pour le traitement des données.\n",
        "\n",
        "Ainsi, en utilisant `transform=ToTensor()`, vous indiquez à PyTorch de convertir les images chargées en tenseurs lors du chargement du jeu de données MNIST. Cela facilite le traitement et l'entraînement des modèles de réseaux de neurones sur ces données."
      ],
      "metadata": {
        "id": "O5PbItPzxic9"
      }
    },
    {
      "cell_type": "markdown",
      "source": [
        "**Affichage de la taille des données d'entraînement et de test**"
      ],
      "metadata": {
        "id": "EUf1zDOYRyWO"
      }
    },
    {
      "cell_type": "code",
      "source": [
        "print(train_data)\n",
        "print(test_data)\n",
        "print(train_data.data.size())\n",
        "print(train_data.targets.size())"
      ],
      "metadata": {
        "colab": {
          "base_uri": "https://localhost:8080/"
        },
        "id": "7SRnXkzLR1M6",
        "outputId": "bd2d14d1-8fd9-4f11-a1e5-b46dc4e64d6b"
      },
      "execution_count": 4,
      "outputs": [
        {
          "output_type": "stream",
          "name": "stdout",
          "text": [
            "Dataset FashionMNIST\n",
            "    Number of datapoints: 60000\n",
            "    Root location: data\n",
            "    Split: Train\n",
            "    StandardTransform\n",
            "Transform: ToTensor()\n",
            "Dataset FashionMNIST\n",
            "    Number of datapoints: 10000\n",
            "    Root location: data\n",
            "    Split: Test\n",
            "    StandardTransform\n",
            "Transform: ToTensor()\n",
            "torch.Size([60000, 28, 28])\n",
            "torch.Size([60000])\n"
          ]
        }
      ]
    },
    {
      "cell_type": "markdown",
      "source": [
        "**Visualisation de l'ensemble de données MNIST**"
      ],
      "metadata": {
        "id": "AJJ9Wl-RR6we"
      }
    },
    {
      "cell_type": "code",
      "source": [
        "import matplotlib.pyplot as plt\n",
        "\n",
        "# Plot d'un seul élément de données d'entraînement\n",
        "plt.imshow(train_data.data[0], cmap='gray')\n",
        "plt.title('%i' % train_data.targets[0])\n",
        "plt.show()\n",
        "\n",
        "print(np.unique(train_data.targets))"
      ],
      "metadata": {
        "colab": {
          "base_uri": "https://localhost:8080/",
          "height": 470
        },
        "id": "bvXipLI3R-nn",
        "outputId": "5bca593d-d803-43f7-f673-7990ebca082c"
      },
      "execution_count": 5,
      "outputs": [
        {
          "output_type": "display_data",
          "data": {
            "text/plain": [
              "<Figure size 640x480 with 1 Axes>"
            ],
            "image/png": "[encoded data removed]"
          },
          "metadata": {}
        },
        {
          "output_type": "stream",
          "name": "stdout",
          "text": [
            "[0 1 2 3 4 5 6 7 8 9]\n"
          ]
        }
      ]
    },
    {
      "cell_type": "code",
      "source": [
        "from PIL import Image\n",
        "import numpy as np\n",
        "\n",
        "array = np.array(train_data.data[0])\n",
        "image = Image.fromarray(array)\n",
        "image.save('output_image.png')"
      ],
      "metadata": {
        "id": "Dpda0qD1RsIf"
      },
      "execution_count": 26,
      "outputs": []
    },
    {
      "cell_type": "code",
      "source": [
        "# Plot de plusieurs éléments de données d'entraînement\n",
        "figure = plt.figure(figsize=(10, 8))\n",
        "cols, rows = 5, 5\n",
        "for i in range(1, cols * rows + 1):\n",
        "    sample_idx = torch.randint(len(train_data), size=(1,)).item()\n",
        "    img, label = train_data[sample_idx]\n",
        "    figure.add_subplot(rows, cols, i)\n",
        "    plt.title(label)\n",
        "    plt.axis(\"off\")\n",
        "    plt.imshow(img.squeeze(), cmap=\"gray\")\n",
        "plt.show()"
      ],
      "metadata": {
        "colab": {
          "base_uri": "https://localhost:8080/",
          "height": 675
        },
        "id": "SuGepRcfUBBL",
        "outputId": "148fbaca-02fa-4a78-eeab-b16264b58014"
      },
      "execution_count": 6,
      "outputs": [
        {
          "output_type": "display_data",
          "data": {
            "text/plain": [
              "<Figure size 1000x800 with 25 Axes>"
            ],
            "image/png": "[encoded data removed]"
          },
          "metadata": {}
        }
      ]
    },
    {
      "cell_type": "markdown",
      "source": [
        "**Préparation des données pour l'entraînement avec DataLoaders**"
      ],
      "metadata": {
        "id": "7Q_0L3eKSCuw"
      }
    },
    {
      "cell_type": "code",
      "source": [
        "from torch.utils.data import DataLoader\n",
        "\n",
        "loaders = {\n",
        "    'train': DataLoader(train_data, batch_size=100, shuffle=True, num_workers=1),\n",
        "    'test': DataLoader(test_data, batch_size=100, shuffle=False, num_workers=1)\n",
        "}"
      ],
      "metadata": {
        "id": "noDV764gSFL-"
      },
      "execution_count": 7,
      "outputs": []
    },
    {
      "cell_type": "markdown",
      "source": [
        "**Définition du modèle de réseau neuronal convolutif (CNN)**\n",
        "\n",
        "Un réseau neuronal convolutif est un type de réseau neuronal utilisé principalement dans les applications de traitement d'images.\n",
        "\n",
        "Créons un réseau neuronal convolutif en utilisant torch.nn.Module.\n",
        "\n",
        "torch.nn.Module sera la classe de base pour tous les modules de réseau neuronal. Nous utiliserons 2 couches convolutives entièrement convolutionnelles, une fonction d'activation ReLU et un MaxPooling.\n",
        "\n",
        "Conv2d : Applique une convolution 2D sur un signal d'entrée composé de plusieurs plans d'entrée.\n",
        "Paramètres\n",
        "\n",
        "- in_channels (int) — Nombre de canaux dans l'image d'entrée\n",
        "\n",
        "- out_channels (int) — Nombre de canaux produits par la convolution\n",
        "\n",
        "- kernel_size (int ou tuple) — Taille du noyau de convolution\n",
        "\n",
        "- stride (int ou tuple, optionnel) — Pas de la convolution. Par défaut : 1\n",
        "\n",
        "- padding (int ou tuple, optionnel) — Rembourrage de zéros ajouté des deux côtés de l'entrée. Par défaut : 0\n",
        "\n",
        "- padding_mode (string, optionnel) — 'zeros', 'reflect', 'replicate' ou 'circular'. Par défaut : 'zeros'\n",
        "\n",
        "- dilation (int ou tuple, optionnel) — Espacement entre les éléments du noyau. Par défaut : 1\n",
        "\n",
        "- groups (int, optionnel) — Nombre de connexions bloquées des canaux d'entrée aux canaux de sortie. Par défaut : 1\n",
        "\n",
        "- bias (booléen, optionnel) — Si True, ajoute un biais apprenable à la sortie. Par défaut : True"
      ],
      "metadata": {
        "id": "7w2T4_zHSKa3"
      }
    },
    {
      "cell_type": "code",
      "source": [
        "import torch.nn as nn\n",
        "import torch.nn.functional as F\n",
        "\n",
        "class CNN(nn.Module):\n",
        "    def __init__(self):\n",
        "        super(CNN, self).__init__()\n",
        "        self.conv1 = nn.Sequential(\n",
        "            nn.Conv2d(in_channels=1, out_channels=16, kernel_size=5, stride=1, padding=2),\n",
        "            nn.ReLU(),\n",
        "            nn.MaxPool2d(kernel_size=2)\n",
        "        )\n",
        "        self.conv2 = nn.Sequential(\n",
        "            nn.Conv2d(16, 32, 5, 1, 2),\n",
        "            nn.ReLU(),\n",
        "            nn.MaxPool2d(2)\n",
        "        )\n",
        "        self.out = nn.Linear(32 * 7 * 7, 10)\n",
        "\n",
        "    def forward(self, x):\n",
        "        x = self.conv1(x)\n",
        "        x = self.conv2(x)\n",
        "        x = x.view(x.size(0), -1)\n",
        "        # output = self.out(x)\n",
        "        output = F.softmax(self.out(x), dim=1)  # Ajout de la couche softmax\n",
        "        return output, x\n",
        "\n",
        "\n",
        "class SimpleNN(nn.Module):\n",
        "    def __init__(self):\n",
        "        super(SimpleNN, self).__init__()\n",
        "        self.fc1 = nn.Linear(28 * 28, 300)\n",
        "        self.fc2 = nn.Linear(300, 100)\n",
        "        self.fc3 = nn.Linear(100, 10)\n",
        "\n",
        "    def forward(self, x):\n",
        "        output = x.view(-1, 28 * 28)  # Aplatir l'image en un vecteur\n",
        "        output = torch.relu(self.fc1(output))\n",
        "        output = torch.relu(self.fc2(output))\n",
        "        output = self.fc3(output)\n",
        "        return output, x\n",
        "\n"
      ],
      "metadata": {
        "id": "G4E5ahDZSMDw"
      },
      "execution_count": 8,
      "outputs": []
    },
    {
      "cell_type": "markdown",
      "source": [
        "Cette partie de code définit la première couche du réseau neuronal convolutif (CNN) en utilisant `nn.Sequential` de PyTorch.\n",
        "1. `nn.Conv2d(in_channels=1, out_channels=16, kernel_size=5, stride=1, padding=2)` : Cette ligne crée une couche de convolution 2D avec les paramètres suivants :\n",
        "   - `in_channels=1` : Nombre de canaux dans l'image d'entrée. Dans ce cas, l'image d'entrée est en niveaux de gris, donc il y a un seul canal.\n",
        "   - `out_channels=16` : Nombre de canaux de sortie, c'est-à-dire le nombre de filtres à appliquer. Cela signifie que la couche de convolution produira 16 cartes d'attributs en sortie.\n",
        "   - `kernel_size=5` : Taille du noyau de convolution. Ici, un noyau de 5x5 est utilisé.\n",
        "   - `stride=1` : Le pas de la convolution, c'est-à-dire le nombre de pixels dont le noyau se déplace à chaque étape.\n",
        "   - `padding=2` : Le rembourrage de zéros ajouté autour de l'image d'entrée. Cela garantit que la taille de la sortie de la convolution est la même que celle de l'entrée.\n",
        "\n",
        "2. `nn.ReLU()` : Cette ligne ajoute une fonction d'activation ReLU (Rectified Linear Unit) après la couche de convolution. La fonction ReLU applique une activation non linéaire, ce qui aide le réseau à apprendre des relations plus complexes dans les données.\n",
        "\n",
        "3. `nn.MaxPool2d(kernel_size=2)` : Cette ligne ajoute une couche de max pooling 2D après la couche ReLU. Le max pooling réduit la dimension spatiale de l'image en prenant la valeur maximale dans chaque fenêtre de la grille spécifiée par `kernel_size=2`. Cela aide à réduire la quantité de calcul nécessaire et à rendre le modèle plus robuste aux translations dans les données d'entrée.\n",
        "\n",
        "En résumé, cette séquence de couches crée une convolution 2D suivie d'une activation ReLU et d'un max pooling, formant ainsi la première couche du réseau CNN.\n",
        "\n",
        "\n",
        "**Remarques**\n",
        "\n",
        "Lorsque vous appliquez une convolution à une image, la taille de l'image en sortie peut être différente de celle de l'image en entrée, en fonction de plusieurs facteurs, notamment la taille du noyau de convolution et le pas (stride) de la convolution.\n",
        "\n",
        "Le rembourrage (padding) est une technique utilisée pour contrôler la taille de l'image en sortie de la convolution. Il consiste à ajouter des zéros autour des bords de l'image d'entrée avant d'appliquer la convolution. Ces zéros ajoutés fournissent un « tampon » autour de l'image, permettant à la convolution de traiter les pixels des bords de l'image de la même manière que les pixels du centre. Cela aide à préserver les informations spatiales des bords de l'image lors de la convolution.\n",
        "\n",
        "Dans cet exemple, `padding=2` signifie qu'un rembourrage de zéros de largeur 2 est ajouté autour de l'image d'entrée avant d'appliquer la convolution. Cela garantit que la taille de l'image en sortie de la convolution sera la même que celle de l'image d'entrée, car les deux côtés de l'image sont rembourrés avec 2 pixels de zéros de chaque côté. Ainsi, la taille de l'image en sortie reste cohérente avec celle de l'image d'entrée, ce qui facilite le traitement des images de différentes tailles dans le réseau neuronal.\n",
        "\n",
        "La passe forward() définit la manière dont nous calculons notre sortie en utilisant les couches et fonctions données.\n"
      ],
      "metadata": {
        "id": "CxWWf-5TWKcL"
      }
    },
    {
      "cell_type": "code",
      "source": [
        "# La classe CNN comporte deux couches de convolution, chacune suivie d'une fonction d'activation ReLU et d'une opération de max pooling.\n",
        "cnn = CNN()\n",
        "Scnn = SimpleNN()\n",
        "print(cnn)\n",
        "print(Scnn)"
      ],
      "metadata": {
        "colab": {
          "base_uri": "https://localhost:8080/"
        },
        "id": "QNvcNzgmTXgY",
        "outputId": "f5aae52c-dada-4fa0-cf29-10dc28051f8a"
      },
      "execution_count": 9,
      "outputs": [
        {
          "output_type": "stream",
          "name": "stdout",
          "text": [
            "CNN(\n",
            "  (conv1): Sequential(\n",
            "    (0): Conv2d(1, 16, kernel_size=(5, 5), stride=(1, 1), padding=(2, 2))\n",
            "    (1): ReLU()\n",
            "    (2): MaxPool2d(kernel_size=2, stride=2, padding=0, dilation=1, ceil_mode=False)\n",
            "  )\n",
            "  (conv2): Sequential(\n",
            "    (0): Conv2d(16, 32, kernel_size=(5, 5), stride=(1, 1), padding=(2, 2))\n",
            "    (1): ReLU()\n",
            "    (2): MaxPool2d(kernel_size=2, stride=2, padding=0, dilation=1, ceil_mode=False)\n",
            "  )\n",
            "  (out): Linear(in_features=1568, out_features=10, bias=True)\n",
            ")\n",
            "SimpleNN(\n",
            "  (fc1): Linear(in_features=784, out_features=300, bias=True)\n",
            "  (fc2): Linear(in_features=300, out_features=100, bias=True)\n",
            "  (fc3): Linear(in_features=100, out_features=10, bias=True)\n",
            ")\n"
          ]
        }
      ]
    },
    {
      "cell_type": "markdown",
      "source": [
        "**Définition de la fonction de perte**"
      ],
      "metadata": {
        "id": "DhVpfOewSst3"
      }
    },
    {
      "cell_type": "code",
      "source": [
        "loss_func = nn.CrossEntropyLoss()\n",
        "loss_func"
      ],
      "metadata": {
        "colab": {
          "base_uri": "https://localhost:8080/"
        },
        "id": "SDxUWhB-Srt3",
        "outputId": "dfb300e3-3acf-444e-e6c1-4d65ad64f1e2"
      },
      "execution_count": 10,
      "outputs": [
        {
          "output_type": "execute_result",
          "data": {
            "text/plain": [
              "CrossEntropyLoss()"
            ]
          },
          "metadata": {},
          "execution_count": 10
        }
      ]
    },
    {
      "cell_type": "markdown",
      "source": [
        "**Définition d'une fonction d'optimisation**"
      ],
      "metadata": {
        "id": "KCAebMxKS1CO"
      }
    },
    {
      "cell_type": "code",
      "source": [
        "from torch import optim\n",
        "\n",
        "optimizer_cnn = optim.Adam(cnn.parameters(), lr=0.01)\n",
        "optimizer_Scnn = optim.Adam(Scnn.parameters(), lr=0.01)\n"
      ],
      "metadata": {
        "id": "oKTbK85oS5dA"
      },
      "execution_count": 11,
      "outputs": []
    },
    {
      "cell_type": "markdown",
      "source": [
        "**Entraînement du modèle**"
      ],
      "metadata": {
        "id": "9hPd6kuXTCKK"
      }
    },
    {
      "cell_type": "code",
      "source": [
        "num_epochs = 15\n",
        "\n",
        "def train(num_epochs, model, loaders, opt, loss_func):\n",
        "    model.train()\n",
        "    total_step = len(loaders['train'])\n",
        "\n",
        "    for epoch in range(num_epochs):\n",
        "        for i, (images, labels) in enumerate(loaders['train']):\n",
        "            output = model(images)[0]\n",
        "            loss = loss_func(output, labels)\n",
        "\n",
        "            opt.zero_grad()\n",
        "            loss.backward()\n",
        "            opt.step()\n",
        "\n",
        "            if (i+1) % 100 == 0:\n",
        "                print ('Epoch [{}/{}], Step [{}/{}], Loss: {:.4f}'\n",
        "                       .format(epoch + 1, num_epochs, i + 1, total_step, loss.item()))\n",
        "    return model\n",
        "\n"
      ],
      "metadata": {
        "id": "xAh1AIx2TF5Y"
      },
      "execution_count": 34,
      "outputs": []
    },
    {
      "cell_type": "code",
      "source": [
        "model_cnn = train(num_epochs, cnn, loaders, optimizer_cnn, loss_func)"
      ],
      "metadata": {
        "colab": {
          "base_uri": "https://localhost:8080/"
        },
        "collapsed": true,
        "id": "j1K1jb0PM-lK",
        "outputId": "4fcfd93a-d52c-4913-a822-1e3dc70785d4"
      },
      "execution_count": 35,
      "outputs": [
        {
          "output_type": "stream",
          "name": "stdout",
          "text": [
            "Epoch [1/15], Step [100/600], Loss: 1.7312\n",
            "Epoch [1/15], Step [200/600], Loss: 1.8509\n",
            "Epoch [1/15], Step [300/600], Loss: 1.6812\n",
            "Epoch [1/15], Step [400/600], Loss: 1.7411\n",
            "Epoch [1/15], Step [500/600], Loss: 1.7709\n",
            "Epoch [1/15], Step [600/600], Loss: 1.7412\n",
            "Epoch [2/15], Step [100/600], Loss: 1.6912\n",
            "Epoch [2/15], Step [200/600], Loss: 1.7711\n",
            "Epoch [2/15], Step [300/600], Loss: 1.6712\n",
            "Epoch [2/15], Step [400/600], Loss: 1.7612\n",
            "Epoch [2/15], Step [500/600], Loss: 1.7212\n",
            "Epoch [2/15], Step [600/600], Loss: 1.7512\n",
            "Epoch [3/15], Step [100/600], Loss: 1.7904\n",
            "Epoch [3/15], Step [200/600], Loss: 1.7312\n",
            "Epoch [3/15], Step [300/600], Loss: 1.7012\n",
            "Epoch [3/15], Step [400/600], Loss: 1.7312\n",
            "Epoch [3/15], Step [500/600], Loss: 1.6912\n",
            "Epoch [3/15], Step [600/600], Loss: 1.7511\n",
            "Epoch [4/15], Step [100/600], Loss: 1.7112\n",
            "Epoch [4/15], Step [200/600], Loss: 1.7312\n",
            "Epoch [4/15], Step [300/600], Loss: 1.7212\n",
            "Epoch [4/15], Step [400/600], Loss: 1.6512\n",
            "Epoch [4/15], Step [500/600], Loss: 1.7012\n",
            "Epoch [4/15], Step [600/600], Loss: 1.6512\n",
            "Epoch [5/15], Step [100/600], Loss: 1.6912\n",
            "Epoch [5/15], Step [200/600], Loss: 1.7111\n",
            "Epoch [5/15], Step [300/600], Loss: 1.6212\n",
            "Epoch [5/15], Step [400/600], Loss: 1.7511\n",
            "Epoch [5/15], Step [500/600], Loss: 1.7915\n",
            "Epoch [5/15], Step [600/600], Loss: 1.7012\n",
            "Epoch [6/15], Step [100/600], Loss: 1.7412\n",
            "Epoch [6/15], Step [200/600], Loss: 1.7612\n",
            "Epoch [6/15], Step [300/600], Loss: 1.8111\n",
            "Epoch [6/15], Step [400/600], Loss: 1.7312\n",
            "Epoch [6/15], Step [500/600], Loss: 1.7311\n",
            "Epoch [6/15], Step [600/600], Loss: 1.7350\n",
            "Epoch [7/15], Step [100/600], Loss: 1.7312\n",
            "Epoch [7/15], Step [200/600], Loss: 1.7412\n",
            "Epoch [7/15], Step [300/600], Loss: 1.7712\n",
            "Epoch [7/15], Step [400/600], Loss: 1.7812\n",
            "Epoch [7/15], Step [500/600], Loss: 1.7112\n",
            "Epoch [7/15], Step [600/600], Loss: 1.7212\n",
            "Epoch [8/15], Step [100/600], Loss: 1.7612\n",
            "Epoch [8/15], Step [200/600], Loss: 1.7312\n",
            "Epoch [8/15], Step [300/600], Loss: 1.8112\n",
            "Epoch [8/15], Step [400/600], Loss: 1.6612\n",
            "Epoch [8/15], Step [500/600], Loss: 1.6912\n",
            "Epoch [8/15], Step [600/600], Loss: 1.8112\n",
            "Epoch [9/15], Step [100/600], Loss: 1.7112\n",
            "Epoch [9/15], Step [200/600], Loss: 1.7312\n",
            "Epoch [9/15], Step [300/600], Loss: 1.7912\n",
            "Epoch [9/15], Step [400/600], Loss: 1.7512\n",
            "Epoch [9/15], Step [500/600], Loss: 1.7012\n",
            "Epoch [9/15], Step [600/600], Loss: 1.6712\n",
            "Epoch [10/15], Step [100/600], Loss: 1.8012\n",
            "Epoch [10/15], Step [200/600], Loss: 1.6612\n",
            "Epoch [10/15], Step [300/600], Loss: 1.7112\n",
            "Epoch [10/15], Step [400/600], Loss: 1.7112\n",
            "Epoch [10/15], Step [500/600], Loss: 1.7412\n",
            "Epoch [10/15], Step [600/600], Loss: 1.7911\n",
            "Epoch [11/15], Step [100/600], Loss: 1.7512\n",
            "Epoch [11/15], Step [200/600], Loss: 1.6712\n",
            "Epoch [11/15], Step [300/600], Loss: 1.6812\n",
            "Epoch [11/15], Step [400/600], Loss: 1.7006\n",
            "Epoch [11/15], Step [500/600], Loss: 1.7712\n",
            "Epoch [11/15], Step [600/600], Loss: 1.7312\n",
            "Epoch [12/15], Step [100/600], Loss: 1.6912\n",
            "Epoch [12/15], Step [200/600], Loss: 1.6812\n",
            "Epoch [12/15], Step [300/600], Loss: 1.8011\n",
            "Epoch [12/15], Step [400/600], Loss: 1.7214\n",
            "Epoch [12/15], Step [500/600], Loss: 1.8212\n",
            "Epoch [12/15], Step [600/600], Loss: 1.7411\n",
            "Epoch [13/15], Step [100/600], Loss: 1.7412\n",
            "Epoch [13/15], Step [200/600], Loss: 1.6812\n",
            "Epoch [13/15], Step [300/600], Loss: 1.6812\n",
            "Epoch [13/15], Step [400/600], Loss: 1.7812\n",
            "Epoch [13/15], Step [500/600], Loss: 1.7412\n",
            "Epoch [13/15], Step [600/600], Loss: 1.7112\n",
            "Epoch [14/15], Step [100/600], Loss: 1.7312\n",
            "Epoch [14/15], Step [200/600], Loss: 1.7312\n",
            "Epoch [14/15], Step [300/600], Loss: 1.6912\n",
            "Epoch [14/15], Step [400/600], Loss: 1.7512\n",
            "Epoch [14/15], Step [500/600], Loss: 1.7212\n",
            "Epoch [14/15], Step [600/600], Loss: 1.7512\n",
            "Epoch [15/15], Step [100/600], Loss: 1.7911\n",
            "Epoch [15/15], Step [200/600], Loss: 1.7612\n",
            "Epoch [15/15], Step [300/600], Loss: 1.7912\n",
            "Epoch [15/15], Step [400/600], Loss: 1.6812\n",
            "Epoch [15/15], Step [500/600], Loss: 1.7512\n",
            "Epoch [15/15], Step [600/600], Loss: 1.7912\n"
          ]
        }
      ]
    },
    {
      "cell_type": "markdown",
      "source": [
        "Cette approche utilise PyTorch pour créer un modèle CNN et l'entraîner étape par étape avec les données d'entraînement, tout en évaluant sa performance avec les données de test."
      ],
      "metadata": {
        "id": "Gsfs0wieTI3Z"
      }
    },
    {
      "cell_type": "code",
      "source": [
        "model_Scnn = train(num_epochs, Scnn, loaders, optimizer_Scnn, loss_func)"
      ],
      "metadata": {
        "colab": {
          "base_uri": "https://localhost:8080/"
        },
        "id": "zaGwRUWzNByv",
        "outputId": "02134a8f-a19d-4b9f-a403-1fb546062085",
        "collapsed": true
      },
      "execution_count": 14,
      "outputs": [
        {
          "output_type": "stream",
          "name": "stdout",
          "text": [
            "Epoch [1/10], Step [100/600], Loss: 0.5511\n",
            "Epoch [1/10], Step [200/600], Loss: 0.5124\n",
            "Epoch [1/10], Step [300/600], Loss: 0.5765\n",
            "Epoch [1/10], Step [400/600], Loss: 0.2549\n",
            "Epoch [1/10], Step [500/600], Loss: 0.7269\n",
            "Epoch [1/10], Step [600/600], Loss: 0.3376\n",
            "Epoch [2/10], Step [100/600], Loss: 0.4477\n",
            "Epoch [2/10], Step [200/600], Loss: 0.3617\n",
            "Epoch [2/10], Step [300/600], Loss: 0.4650\n",
            "Epoch [2/10], Step [400/600], Loss: 0.3175\n",
            "Epoch [2/10], Step [500/600], Loss: 0.4441\n",
            "Epoch [2/10], Step [600/600], Loss: 0.2724\n",
            "Epoch [3/10], Step [100/600], Loss: 0.4559\n",
            "Epoch [3/10], Step [200/600], Loss: 0.4258\n",
            "Epoch [3/10], Step [300/600], Loss: 0.3112\n",
            "Epoch [3/10], Step [400/600], Loss: 0.3846\n",
            "Epoch [3/10], Step [500/600], Loss: 0.2971\n",
            "Epoch [3/10], Step [600/600], Loss: 0.3221\n",
            "Epoch [4/10], Step [100/600], Loss: 0.2297\n",
            "Epoch [4/10], Step [200/600], Loss: 0.3912\n",
            "Epoch [4/10], Step [300/600], Loss: 0.3765\n",
            "Epoch [4/10], Step [400/600], Loss: 0.3016\n",
            "Epoch [4/10], Step [500/600], Loss: 0.3461\n",
            "Epoch [4/10], Step [600/600], Loss: 0.3338\n",
            "Epoch [5/10], Step [100/600], Loss: 0.3039\n",
            "Epoch [5/10], Step [200/600], Loss: 0.5145\n",
            "Epoch [5/10], Step [300/600], Loss: 0.3062\n",
            "Epoch [5/10], Step [400/600], Loss: 0.4019\n",
            "Epoch [5/10], Step [500/600], Loss: 0.3165\n",
            "Epoch [5/10], Step [600/600], Loss: 0.3483\n",
            "Epoch [6/10], Step [100/600], Loss: 0.4653\n",
            "Epoch [6/10], Step [200/600], Loss: 0.2970\n",
            "Epoch [6/10], Step [300/600], Loss: 0.2893\n",
            "Epoch [6/10], Step [400/600], Loss: 0.2799\n",
            "Epoch [6/10], Step [500/600], Loss: 0.3286\n",
            "Epoch [6/10], Step [600/600], Loss: 0.4146\n",
            "Epoch [7/10], Step [100/600], Loss: 0.2997\n",
            "Epoch [7/10], Step [200/600], Loss: 0.4367\n",
            "Epoch [7/10], Step [300/600], Loss: 0.4126\n",
            "Epoch [7/10], Step [400/600], Loss: 0.3026\n",
            "Epoch [7/10], Step [500/600], Loss: 0.2112\n",
            "Epoch [7/10], Step [600/600], Loss: 0.2841\n",
            "Epoch [8/10], Step [100/600], Loss: 0.3246\n",
            "Epoch [8/10], Step [200/600], Loss: 0.3666\n",
            "Epoch [8/10], Step [300/600], Loss: 0.3964\n",
            "Epoch [8/10], Step [400/600], Loss: 0.3381\n",
            "Epoch [8/10], Step [500/600], Loss: 0.3075\n",
            "Epoch [8/10], Step [600/600], Loss: 0.3419\n",
            "Epoch [9/10], Step [100/600], Loss: 0.2301\n",
            "Epoch [9/10], Step [200/600], Loss: 0.2022\n",
            "Epoch [9/10], Step [300/600], Loss: 0.3136\n",
            "Epoch [9/10], Step [400/600], Loss: 0.3520\n",
            "Epoch [9/10], Step [500/600], Loss: 0.2182\n",
            "Epoch [9/10], Step [600/600], Loss: 0.1948\n",
            "Epoch [10/10], Step [100/600], Loss: 0.1950\n",
            "Epoch [10/10], Step [200/600], Loss: 0.2672\n",
            "Epoch [10/10], Step [300/600], Loss: 0.2392\n",
            "Epoch [10/10], Step [400/600], Loss: 0.4524\n",
            "Epoch [10/10], Step [500/600], Loss: 0.2574\n",
            "Epoch [10/10], Step [600/600], Loss: 0.2867\n"
          ]
        }
      ]
    },
    {
      "cell_type": "markdown",
      "source": [
        "**Évaluer le modèle sur les données de test**\n",
        "\n",
        "Nous devons appeler model.eval() pour définir les couches de dropout et de normalisation par lot en mode évaluation avant de procéder à l'inférence.\n",
        "\n",
        "model.train() indique à votre modèle que vous entraînez le modèle. Ainsi, des couches comme dropout, batchnorm, etc., qui se comportent différemment lors des procédures d'entraînement et de test, savent ce qui se passe et peuvent donc se comporter en conséquence.\n",
        "\n",
        "Vous pouvez appeler soit model.eval() soit model.train(mode=False) pour indiquer que vous testez le modèle.\n"
      ],
      "metadata": {
        "id": "h4EU-1OGXZgj"
      }
    },
    {
      "cell_type": "code",
      "source": [
        "def test(model_nn):\n",
        "    # Tester le modèle\n",
        "    model_nn.eval()\n",
        "    with torch.no_grad():\n",
        "        correct = 0\n",
        "        total = 0\n",
        "        for images, labels in loaders['test']:\n",
        "            test_output, last_layer = model_nn(images)\n",
        "            pred_y = torch.max(test_output, 1)[1].data.squeeze()\n",
        "            accuracy = (pred_y == labels).sum().item() / float(labels.size(0))\n",
        "            pass\n",
        "        print('Précision du modèle sur les 10000 images de test : %.2f' % accuracy)\n",
        "\n",
        "    pass\n",
        "\n"
      ],
      "metadata": {
        "id": "OYF9nY26XeJC"
      },
      "execution_count": 15,
      "outputs": []
    },
    {
      "cell_type": "code",
      "source": [
        "test(model_cnn)"
      ],
      "metadata": {
        "colab": {
          "base_uri": "https://localhost:8080/"
        },
        "id": "0_JRpf6kqEkc",
        "outputId": "63d02ab7-2228-4b99-d355-8da2b7f3d0d2"
      },
      "execution_count": 36,
      "outputs": [
        {
          "output_type": "stream",
          "name": "stdout",
          "text": [
            "Précision du modèle sur les 10000 images de test : 0.73\n"
          ]
        }
      ]
    },
    {
      "cell_type": "code",
      "source": [
        "test(model_Scnn)"
      ],
      "metadata": {
        "colab": {
          "base_uri": "https://localhost:8080/"
        },
        "id": "hsAGFEegS678",
        "outputId": "a676fede-f42b-4065-e942-74de1ddfcfa7"
      },
      "execution_count": 16,
      "outputs": [
        {
          "output_type": "stream",
          "name": "stdout",
          "text": [
            "Précision du modèle sur les 10000 images de test : 0.84\n"
          ]
        }
      ]
    },
    {
      "cell_type": "markdown",
      "source": [
        "**Imprimer 10 prédictions à partir des données de test**"
      ],
      "metadata": {
        "id": "aI1TQPh0XiJZ"
      }
    },
    {
      "cell_type": "code",
      "source": [
        "sample = next(iter(loaders['test']))\n",
        "imgs, lbls = sample\n",
        "\n",
        "actual_number = lbls[:10].numpy()\n",
        "print(f'Numéro réel : {actual_number}')\n",
        "\n",
        "test_output, last_layer = model_cnn(imgs[:10])\n",
        "pred_y = torch.max(test_output, 1)[1].data.numpy().squeeze()\n",
        "print(f'Numéro prédit : {pred_y}')"
      ],
      "metadata": {
        "colab": {
          "base_uri": "https://localhost:8080/"
        },
        "id": "8rVEB-bSXlf6",
        "outputId": "975dd73b-277d-4f69-b56e-35cc7dc84d71"
      },
      "execution_count": 18,
      "outputs": [
        {
          "output_type": "stream",
          "name": "stdout",
          "text": [
            "Numéro réel : [9 2 1 1 6 1 4 6 5 7]\n",
            "Numéro prédit : [9 2 1 1 2 1 2 2 5 7]\n"
          ]
        }
      ]
    },
    {
      "cell_type": "code",
      "source": [
        "sample = next(iter(loaders['test']))\n",
        "imgs, lbls = sample\n",
        "\n",
        "actual_number = lbls[:10].numpy()\n",
        "print(f'Numéro réel : {actual_number}')\n",
        "\n",
        "test_output, last_layer = model_Scnn(imgs[:10])\n",
        "pred_y = torch.max(test_output, 1)[1].data.numpy().squeeze()\n",
        "print(f'Numéro prédit : {pred_y}')"
      ],
      "metadata": {
        "colab": {
          "base_uri": "https://localhost:8080/"
        },
        "id": "y1Je8WpAmFhW",
        "outputId": "c4bf8773-9154-4c57-e913-1348af3f621c"
      },
      "execution_count": 19,
      "outputs": [
        {
          "output_type": "stream",
          "name": "stdout",
          "text": [
            "Numéro réel : [9 2 1 1 6 1 4 6 5 7]\n",
            "Numéro prédit : [9 2 1 1 6 1 4 6 5 7]\n"
          ]
        }
      ]
    },
    {
      "cell_type": "markdown",
      "source": [
        "Ces instructions expliquent comment évaluer le modèle sur les données de test, affichant également la précision du modèle, puis comment imprimer 10 prédictions à partir des données de test."
      ],
      "metadata": {
        "id": "hJdH8ck0XrAq"
      }
    },
    {
      "cell_type": "code",
      "source": [
        "import torch\n",
        "import matplotlib.pyplot as plt\n",
        "import seaborn as sns\n",
        "from sklearn.metrics import confusion_matrix\n",
        "import numpy as np\n",
        "\n",
        "model = model_cnn\n",
        "test_loader = loaders[\"test\"]\n",
        "\n",
        "# Listes pour stocker les vraies étiquettes et les prédictions\n",
        "all_labels = []\n",
        "all_preds = []\n",
        "\n",
        "# Mettre le modèle en mode évaluation\n",
        "model.eval()\n",
        "\n",
        "with torch.no_grad():\n",
        "    for data, target in test_loader:\n",
        "        # Envoyer les données au périphérique (CPU ou GPU)\n",
        "        data, target = data.to(device), target.to(device)\n",
        "\n",
        "        # Faire les prédictions\n",
        "        outputs, _ = model(data)\n",
        "        _, preds = torch.max(outputs, 1)\n",
        "\n",
        "        # Stocker les vraies étiquettes et les prédictions\n",
        "        all_labels.extend(target.cpu().numpy())\n",
        "        all_preds.extend(preds.cpu().numpy())\n",
        "\n",
        "all_labels = np.array(all_labels)\n",
        "all_preds = np.array(all_preds)\n",
        "cm = confusion_matrix(all_labels, all_preds)\n",
        "plt.figure(figsize=(10, 8))\n",
        "sns.heatmap(cm, annot=True, fmt='d', cmap='Blues')\n",
        "\n",
        "plt.xlabel('Predicted')\n",
        "plt.ylabel('True')\n",
        "plt.title('Confusion Matrix CNN 2')\n",
        "\n",
        "plt.show()"
      ],
      "metadata": {
        "colab": {
          "base_uri": "https://localhost:8080/",
          "height": 718
        },
        "id": "3GT5td0oa85T",
        "outputId": "2965a546-bc81-4aeb-b1da-602c9d867e62"
      },
      "execution_count": 38,
      "outputs": [
        {
          "output_type": "display_data",
          "data": {
            "text/plain": [
              "<Figure size 1000x800 with 2 Axes>"
            ],
            "image/png": "[encoded data removed]"
          },
          "metadata": {}
        }
      ]
    },
    {
      "cell_type": "code",
      "source": [
        "import torch\n",
        "import matplotlib.pyplot as plt\n",
        "import seaborn as sns\n",
        "from sklearn.metrics import confusion_matrix\n",
        "import numpy as np\n",
        "\n",
        "model = model_Scnn\n",
        "test_loader = loaders[\"test\"]\n",
        "\n",
        "# Listes pour stocker les vraies étiquettes et les prédictions\n",
        "all_labels = []\n",
        "all_preds = []\n",
        "\n",
        "# Mettre le modèle en mode évaluation\n",
        "model.eval()\n",
        "\n",
        "with torch.no_grad():\n",
        "    for data, target in test_loader:\n",
        "        # Envoyer les données au périphérique (CPU ou GPU)\n",
        "        data, target = data.to(device), target.to(device)\n",
        "\n",
        "        # Faire les prédictions\n",
        "        outputs, _ = model(data)\n",
        "        _, preds = torch.max(outputs, 1)\n",
        "\n",
        "        # Stocker les vraies étiquettes et les prédictions\n",
        "        all_labels.extend(target.cpu().numpy())\n",
        "        all_preds.extend(preds.cpu().numpy())\n",
        "\n",
        "all_labels = np.array(all_labels)\n",
        "all_preds = np.array(all_preds)\n",
        "cm = confusion_matrix(all_labels, all_preds)\n",
        "plt.figure(figsize=(10, 8))\n",
        "sns.heatmap(cm, annot=True, fmt='d', cmap='Blues')\n",
        "\n",
        "plt.xlabel('Predicted')\n",
        "plt.ylabel('True')\n",
        "plt.title('Confusion Matrix Sans CNN')\n",
        "\n",
        "plt.show()"
      ],
      "metadata": {
        "colab": {
          "base_uri": "https://localhost:8080/",
          "height": 718
        },
        "id": "jL8IG2Y3bx65",
        "outputId": "c7e64799-0df5-448c-9572-a4b0e36f05ba"
      },
      "execution_count": 33,
      "outputs": [
        {
          "output_type": "display_data",
          "data": {
            "text/plain": [
              "<Figure size 1000x800 with 2 Axes>"
            ],
            "image/png": "[encoded data removed]"
          },
          "metadata": {}
        }
      ]
    },
    {
      "cell_type": "markdown",
      "source": [
        "## **Sauvegarder un modèle en format ONNX**\n",
        "Pour sauvegarder un modèle en format ONNX dans PyTorch, vous pouvez utiliser la fonction `torch.onnx.export()`. Voici un exemple de script qui illustre comment sauvegarder un modèle en format ONNX :\n"
      ],
      "metadata": {
        "id": "gTbrgMi_38tr"
      }
    },
    {
      "cell_type": "code",
      "source": [
        "!pip install onnx"
      ],
      "metadata": {
        "colab": {
          "base_uri": "https://localhost:8080/"
        },
        "id": "sZV-Noc95q1T",
        "outputId": "d7bac7ce-2c3e-456c-9cf4-3cbc2839503d"
      },
      "execution_count": 20,
      "outputs": [
        {
          "output_type": "stream",
          "name": "stdout",
          "text": [
            "Collecting onnx\n",
            "  Downloading onnx-1.16.1-cp310-cp310-manylinux_2_17_x86_64.manylinux2014_x86_64.whl (15.9 MB)\n",
            "\u001b[2K     \u001b[90m━━━━━━━━━━━━━━━━━━━━━━━━━━━━━━━━━━━━━━━━\u001b[0m \u001b[32m15.9/15.9 MB\u001b[0m \u001b[31m30.2 MB/s\u001b[0m eta \u001b[36m0:00:00\u001b[0m\n",
            "\u001b[?25hRequirement already satisfied: numpy>=1.20 in /usr/local/lib/python3.10/dist-packages (from onnx) (1.25.2)\n",
            "Requirement already satisfied: protobuf>=3.20.2 in /usr/local/lib/python3.10/dist-packages (from onnx) (3.20.3)\n",
            "Installing collected packages: onnx\n",
            "Successfully installed onnx-1.16.1\n"
          ]
        }
      ]
    },
    {
      "cell_type": "code",
      "source": [
        "import torch\n",
        "import torchvision.models as models\n",
        "\n",
        "# Définir des données factices en entrée\n",
        "dummy_input = torch.randn(1, 1, 28, 28)  # Les dimensions correspondent à celles des données MNIST\n",
        "\n",
        "# Spécifier le chemin de sauvegarde du modèle ONNX\n",
        "onnx_path = \"Scnn_model.onnx\"\n",
        "\n",
        "# Exporter le modèle en format ONNX\n",
        "torch.onnx.export(model_Scnn, dummy_input, onnx_path)\n",
        "\n"
      ],
      "metadata": {
        "id": "FTGzm-kp4Biu"
      },
      "execution_count": 22,
      "outputs": []
    }
  ]
}